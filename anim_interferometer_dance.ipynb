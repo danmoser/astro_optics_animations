{
 "cells": [
  {
   "cell_type": "markdown",
   "metadata": {},
   "source": [
    "# Animation of the PSF of dancing interferometers\n",
    "\n",
    "_M Kenworthy_ Leiden Observatory kenworthy@strw.leidenuniv.nl\n",
    "\n",
    "Based on hcipy tutorials https://docs.hcipy.org/0.3.1/tutorials/index.html and examples, and http://louistiao.me/posts/notebooks/embedding-matplotlib-animations-in-jupyter-as-interactive-javascript-widgets/\n"
   ]
  },
  {
   "cell_type": "code",
   "execution_count": 1,
   "metadata": {},
   "outputs": [],
   "source": [
    "#pip install progressbar2"
   ]
  },
  {
   "cell_type": "code",
   "execution_count": 2,
   "metadata": {},
   "outputs": [],
   "source": [
    "#pip install ffpmeg"
   ]
  },
  {
   "cell_type": "code",
   "execution_count": 3,
   "metadata": {},
   "outputs": [],
   "source": [
    "import numpy as np\n",
    "import matplotlib.pyplot as plt\n",
    "\n",
    "from hcipy import *\n",
    "from scenes import *\n",
    "\n",
    "from progressbar import progressbar \n",
    "\n",
    "anim_version='v1'"
   ]
  },
  {
   "cell_type": "code",
   "execution_count": 4,
   "metadata": {},
   "outputs": [],
   "source": [
    "from matplotlib import animation, rc\n",
    "#from IPython.display import HTML"
   ]
  },
  {
   "cell_type": "code",
   "execution_count": 25,
   "metadata": {},
   "outputs": [
    {
     "name": "stdout",
     "output_type": "stream",
     "text": [
      "4\n"
     ]
    },
    {
     "data": {
      "image/png": "[encoded data removed]",
      "text/plain": [
       "<Figure size 432x432 with 1 Axes>"
      ]
     },
     "metadata": {
      "needs_background": "light"
     },
     "output_type": "display_data"
    },
    {
     "name": "stdout",
     "output_type": "stream",
     "text": [
      "[-0.4, -0.13333333333333336, 0.1333333333333333, 0.4]\n"
     ]
    },
    {
     "data": {
      "text/plain": [
       "<matplotlib.image.NonUniformImage at 0x7fb9c1816f90>"
      ]
     },
     "execution_count": 25,
     "metadata": {},
     "output_type": "execute_result"
    },
    {
     "data": {
      "image/png": "[encoded data removed]",
      "text/plain": [
       "<Figure size 432x288 with 1 Axes>"
      ]
     },
     "metadata": {
      "needs_background": "light"
     },
     "output_type": "display_data"
    }
   ],
   "source": [
    "# each Dish now has a Stage with each variable!\n",
    "\n",
    "class Dish:\n",
    "    def __init__(self, x=0.0, y=0.0, d=0.1, ampl=1.0):\n",
    "        'Dish - a single element in a telescope array at position (x,y) with diameter d and electric field amplitud ampl'\n",
    "        self.x = x\n",
    "        self.y = y\n",
    "        self.d = d\n",
    "        self.ampl = ampl\n",
    "        self.xsc = Stage()\n",
    "        self.ysc = Stage()\n",
    "        self.dsc = Stage()\n",
    "        self.asc = Stage()\n",
    "        \n",
    "        def set_polar(self, r, theta):\n",
    "            'set position of Dish with polar coordinates'\n",
    "            self.x = r*np.cos(theta)\n",
    "            self.y = r*np.sin(theta)\n",
    "            \n",
    "        def get_polar(self):\n",
    "            r = np.sqrt(self.x*self.x + self.y*self.y)\n",
    "            theta = np.atan2(self.y, self.x)\n",
    "            return (r, theta)\n",
    "            \n",
    "\n",
    "class TelArray:\n",
    "    def __init__(self):\n",
    "        self.dishes = []\n",
    "        \n",
    "    def show_array(self):\n",
    "        fig, ax = plt.subplots(figsize=(6,6))\n",
    "        ax.set_xlim(-0.6,0.6)\n",
    "        ax.set_ylim(-0.6,0.6)\n",
    "        c = plt.Circle((0.0, 0.0), 0.5, fc=None, fill=False, linestyle='--', color='black', zorder=-5)\n",
    "        ax.add_artist(c)\n",
    "        for i, (a) in enumerate(self.dishes):\n",
    "            draw_circle = plt.Circle((a.x,a.y), a.d/2)\n",
    "            ax.add_artist(draw_circle)\n",
    "            ax.text(a.x, a.y, i, fontsize=16, color='white', weight='bold', horizontalalignment='center', verticalalignment='center')\n",
    "            \n",
    "            \n",
    "        plt.title('Telescope array')\n",
    "        plt.show()\n",
    "            \n",
    "    def add(self, Dish):\n",
    "        'add a Dish to the Array'\n",
    "        self.dishes.append(Dish)\n",
    "        return len(self.dishes)\n",
    "        \n",
    "    def add_linear(self, n=5, length=1., diam=0.1, ampl=1.0):\n",
    "        'a linear array of n Dishes with centre of first dish to last dish of length, diameter diam, transmission ampl'\n",
    "        xpos = np.linspace(-length/2., length/2., n)\n",
    "        for x in xpos:\n",
    "            dish = Dish(x, 0., diam, ampl)\n",
    "            self.add(dish)\n",
    "            \n",
    "        return len(self.dishes)\n",
    "    \n",
    "    def add_middle(self, n=5, diam=0.1, ampl=1.0):\n",
    "        'add n Dishes at the origin diameter diam, transmission ampl'\n",
    "        for x in xpos:\n",
    "            dish = Dish(0, 0., diam, ampl)\n",
    "            self.add(dish)\n",
    "            \n",
    "        return len(self.dishes)\n",
    "    \n",
    "    def make_grid(self):\n",
    "        'returns a HCIpy Grid containing all the dishes in TelArray'\n",
    "        # this seems very daft - surely there's a pythonic way of getting a quantity of a list of Objects?\n",
    "        xd = []\n",
    "        yd = []\n",
    "        diam = []\n",
    "        ampl = []\n",
    "        for dish in self.dishes:\n",
    "            xd.append(dish.x)\n",
    "            yd.append(dish.y)\n",
    "            diam.append(dish.d)\n",
    "            ampl.append(dish.ampl)\n",
    "            \n",
    "        print(xd)\n",
    "        interf_array = UnstructuredCoords((xd,yd))\n",
    "\n",
    "        grid = Grid(interf_array)\n",
    "\n",
    "        # currently we keep all dishes the same diameter - the first Diah\n",
    "        dish = circular_aperture(diam[0]) # this is a Field generator\n",
    "\n",
    "        interferom = make_segmented_aperture(dish, grid, np.array(ampl))\n",
    "        \n",
    "        return interferom\n",
    "    \n",
    "    \n",
    "    \n",
    "    def longest_time(self):\n",
    "        '''calculates the longest time of all the Stages listed in the TelArray'''\n",
    "        longest_time = 0.\n",
    "        \n",
    "        # loop over all the Dishes in the TelArray\n",
    "        for di in self.dishes:    \n",
    "            # loop through the Stages in the Dish object\n",
    "            for st in (di.xsc, di.ysc, di.dsc, di.asc):\n",
    "                # find longest time of all the Stages\n",
    "                if (st.total_time() > longest_time):\n",
    "                    longest_time = st.total_time()\n",
    "\n",
    "        return longest_time\n",
    "\n",
    "    \n",
    "    def t(self, t):\n",
    "        'given a TelArray, makes an HCIpy Grid at SINGLE time t'\n",
    "        print(0)\n",
    "        # WARNING: should barf if number of Dishes is not the same as 4* number of Scenes in the Play    \n",
    "    \n",
    "        xd = []\n",
    "        yd = []\n",
    "        diam = []\n",
    "        ampl = []\n",
    "        for dish in self.dishes:\n",
    "            xd.append(dish.xsc.t(t))\n",
    "            yd.append(dish.ysc.t(t))\n",
    "            diam.append(dish.dsc.t(t))\n",
    "            ampl.append(dish.asc.t(t))\n",
    "            \n",
    "        print(xd)\n",
    "        interf_array = UnstructuredCoords((xd,yd))\n",
    "\n",
    "        grid = Grid(interf_array)\n",
    "\n",
    "        # currently we keep all dishes the same diameter - the first Diah\n",
    "        dish = circular_aperture(diam[0]) # this is a Field generator\n",
    "\n",
    "        interferom = make_segmented_aperture(dish, grid, np.array(ampl))\n",
    "        \n",
    "        return interferom\n",
    "    \n",
    "    def tidyup(self):\n",
    "        # loop through all Scenes in your Dishes in your TelArray, bring them up to the latest time value\n",
    "        return 0\n",
    "        \n",
    "    def tidyup(self):\n",
    "        '''adds constant value Acts to brings up all the other Stages to the longest time'''\n",
    "\n",
    "#        print('longest time is {}'.format(self.longest_time()))\n",
    "        longest_time = self.longest_time()\n",
    "    \n",
    "        # loop through all the Dishes\n",
    "        for di in self.dishes:\n",
    "            # loop over all the Stages in each Dish object\n",
    "            for s in (di.xsc, di.ysc, di.dsc, di.asc):\n",
    "                stage_time = s.total_time()\n",
    "                if (stage_time < longest_time):\n",
    "#                print(\"adding a time delta to this one\")\n",
    "                    dt = longest_time - stage_time\n",
    "                    last_value = s.t(stage_time)\n",
    "                    s.add(Act(last_value,last_value,dt))\n",
    "\n",
    "    \n",
    "    # you can now build up your animation by adding TelArray[0].xsc.Add(asdf)\n",
    "    # and then run tidyup on your Telarray\n",
    "\n",
    "arr = TelArray()\n",
    "\n",
    "print(arr.add_linear(4,1-0.2,0.2))\n",
    "arr.show_array()\n",
    "        \n",
    "# start with two dishes\n",
    "\n",
    "interfer = arr.make_grid()\n",
    "\n",
    "pupil_grid = make_pupil_grid(1024,1.5)\n",
    "inter_pupil = evaluate_supersampled(interfer, pupil_grid, 8)\n",
    "\n",
    "imshow_field(inter_pupil)\n",
    "\n"
   ]
  },
  {
   "cell_type": "code",
   "execution_count": null,
   "metadata": {},
   "outputs": [],
   "source": []
  },
  {
   "cell_type": "code",
   "execution_count": 6,
   "metadata": {},
   "outputs": [
    {
     "data": {
      "text/plain": [
       "<matplotlib.image.NonUniformImage at 0x7fb9bb142350>"
      ]
     },
     "execution_count": 6,
     "metadata": {},
     "output_type": "execute_result"
    },
    {
     "data": {
      "image/png": "[encoded data removed]",
      "text/plain": [
       "<Figure size 432x288 with 1 Axes>"
      ]
     },
     "metadata": {
      "needs_background": "light"
     },
     "output_type": "display_data"
    }
   ],
   "source": [
    "ndish = 5\n",
    "\n",
    "ddish = .1\n",
    "\n",
    "dish_x = np.linspace(-0.5+(ddish/2.), 0.5-(ddish/2.), ndish)\n",
    "\n",
    "dish_y = np.zeros_like(dish_x)\n",
    "\n",
    "interf_array = UnstructuredCoords((dish_x,dish_y))\n",
    "\n",
    "grid = Grid(interf_array)\n",
    "\n",
    "dish = circular_aperture(ddish) # this is a Field generator\n",
    "\n",
    "interferom = make_segmented_aperture(dish, grid, np.array([1.0]))\n",
    "\n",
    "pupil_grid = make_pupil_grid(1024,1.5)\n",
    "inter_pupil = evaluate_supersampled(interferom, pupil_grid, 8)\n",
    "\n",
    "imshow_field(inter_pupil)"
   ]
  },
  {
   "cell_type": "code",
   "execution_count": null,
   "metadata": {},
   "outputs": [],
   "source": [
    "focal_grid = make_focal_grid(8, 14)\n",
    "\n",
    "prop = FraunhoferPropagator(inter_pupil, focal_grid)\n",
    "\n",
    "wf = Wavefront(inter_pupil)\n",
    "focal_image = prop(wf).intensity\n",
    "imshow_field(np.log10(focal_image / focal_image.max()), vmin=-5, cmap='inferno')"
   ]
  },
  {
   "cell_type": "markdown",
   "metadata": {},
   "source": [
    "## HCIpy setup"
   ]
  },
  {
   "cell_type": "code",
   "execution_count": null,
   "metadata": {},
   "outputs": [],
   "source": [
    "ddish = Stage()\n",
    "ddish.add(Act(1.0, 0.05, 5,  'sig',10))\n",
    "ddish.add(Act(0.05, 0.1, 5,  'sig',10))\n",
    "ddish.add(Act(0.1, 0.2, 5,  'sig',10))\n",
    "\n",
    "print(ddish.total_time())\n",
    "\n",
    "t = np.arange(0,ddish.total_time(),0.05)\n",
    "\n",
    "plt.plot(t, ddish.t(t))"
   ]
  },
  {
   "cell_type": "code",
   "execution_count": null,
   "metadata": {},
   "outputs": [],
   "source": [
    "total_time_animation = ddish.total_time() # seconds\n",
    "frame_rate = 10          # frames per second\n",
    "total_frames = total_time_animation * frame_rate # seconds\n",
    "supersampling = 4\n",
    "\n",
    "plt.figure(figsize=(8,4))\n",
    "\n",
    "anim = FFMpegWriter('interferometers_{}.mp4'.format(anim_version), framerate=frame_rate)\n",
    "\n",
    "times = np.arange(0,total_time_animation, 1./frame_rate)\n",
    "\n",
    "dd = ddish.t(times)\n",
    "\n",
    "ndish = 5\n",
    "pupil_grid = make_pupil_grid(1024,1.5)\n",
    "focal_grid = make_focal_grid(8, 14)\n",
    "\n",
    "for t in progressbar(range(np.int(total_frames))):\n",
    "\n",
    "    dish = circular_aperture(dd[t]) # this is a Field generator\n",
    "\n",
    "    dish_x = np.linspace(-0.5+(dd[t]/2.), 0.5-(dd[t]/2.), ndish)\n",
    "\n",
    "    dish_y = np.zeros_like(dish_x)\n",
    "\n",
    "    interf_array = UnstructuredCoords((dish_x,dish_y))\n",
    "\n",
    "    grid = Grid(interf_array)\n",
    "    \n",
    "    interferom = make_segmented_aperture(dish, grid, np.array([1.0]))\n",
    "\n",
    "    inter_pupil = evaluate_supersampled(interferom, pupil_grid, supersampling)\n",
    "\n",
    "    plt.clf()\n",
    "#    plt.suptitle('Timestep %d / %d' % (t, total_frames))\n",
    "    \n",
    "    plt.subplot(1,2,1)\n",
    "    imshow_field(inter_pupil, cmap='gray')\n",
    "    plt.title('Aperture')\n",
    "    \n",
    "    plt.text(0.05,0.05,anim_version, fontsize=12, color='white',\n",
    "            horizontalalignment='left', verticalalignment='bottom',\n",
    "            transform=plt.gca().transAxes)\n",
    "    \n",
    "    prop = FraunhoferPropagator(inter_pupil, focal_grid)\n",
    "\n",
    "    wf = Wavefront(inter_pupil)\n",
    "    focal_image = prop(wf).intensity\n",
    "    \n",
    "    plt.subplot(1,2,2)\n",
    "    imshow_field(np.log10(focal_image / focal_image.max()), vmin=-5, cmap='inferno')\n",
    "    #plt.title('frame {} at time {:.2f}'.format(timestep, timestep/frame_rate))\n",
    "    plt.title('PSF')\n",
    "\n",
    "    plt.text(0.95,0.05,\"@mattkenworthy\", fontsize=12, color='white',\n",
    "        horizontalalignment='right', verticalalignment='bottom',\n",
    "        transform=plt.gca().transAxes)\n",
    "    \n",
    "    anim.add_frame()\n",
    "\n",
    "plt.close()\n",
    "anim.close()\n",
    "\n",
    "# Show created animation\n",
    "anim"
   ]
  },
  {
   "cell_type": "code",
   "execution_count": null,
   "metadata": {},
   "outputs": [],
   "source": [
    "!ffmpeg -i interferometers_v1.mp4 -vf \"fps=10,scale=400:-1:flags=lanczos\" -c:v pam -f image2pipe - | convert -delay 10 - -loop 0 -layers optimize interferometers_v1.gif"
   ]
  }
 ],
 "metadata": {
  "kernelspec": {
   "display_name": "Python 3",
   "language": "python",
   "name": "python3"
  },
  "language_info": {
   "codemirror_mode": {
    "name": "ipython",
    "version": 3
   },
   "file_extension": ".py",
   "mimetype": "text/x-python",
   "name": "python",
   "nbconvert_exporter": "python",
   "pygments_lexer": "ipython3",
   "version": "3.7.4"
  }
 },
 "nbformat": 4,
 "nbformat_minor": 4
}
