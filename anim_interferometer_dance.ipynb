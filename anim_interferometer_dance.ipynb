{
 "cells": [
  {
   "cell_type": "markdown",
   "metadata": {},
   "source": [
    "# Animation of the PSF of dancing interferometers\n",
    "\n",
    "_M Kenworthy_ Leiden Observatory kenworthy@strw.leidenuniv.nl\n",
    "\n",
    "Based on hcipy tutorials https://docs.hcipy.org/0.3.1/tutorials/index.html and examples, and http://louistiao.me/posts/notebooks/embedding-matplotlib-animations-in-jupyter-as-interactive-javascript-widgets/\n"
   ]
  },
  {
   "cell_type": "code",
   "execution_count": 1,
   "metadata": {},
   "outputs": [],
   "source": [
    "#pip install progressbar2"
   ]
  },
  {
   "cell_type": "code",
   "execution_count": 2,
   "metadata": {},
   "outputs": [],
   "source": [
    "#pip install ffpmeg"
   ]
  },
  {
   "cell_type": "code",
   "execution_count": 3,
   "metadata": {},
   "outputs": [],
   "source": [
    "import numpy as np\n",
    "import matplotlib.pyplot as plt\n",
    "\n",
    "from hcipy import *\n",
    "from scenes import *\n",
    "\n",
    "from progressbar import progressbar \n",
    "\n",
    "anim_version='v1'"
   ]
  },
  {
   "cell_type": "code",
   "execution_count": 4,
   "metadata": {},
   "outputs": [],
   "source": [
    "from matplotlib import animation, rc\n",
    "#from IPython.display import HTML"
   ]
  },
  {
   "cell_type": "code",
   "execution_count": 37,
   "metadata": {},
   "outputs": [
    {
     "name": "stdout",
     "output_type": "stream",
     "text": [
      "-0.45\n",
      "-0.225\n",
      "0.0\n",
      "0.22500000000000003\n",
      "0.45\n"
     ]
    },
    {
     "data": {
      "image/png": "[encoded data removed]",
      "text/plain": [
       "<Figure size 432x432 with 1 Axes>"
      ]
     },
     "metadata": {
      "needs_background": "light"
     },
     "output_type": "display_data"
    }
   ],
   "source": [
    "\n",
    "class Dish:\n",
    "    def __init__(self, x=0.0, y=0.0, d=0.1, ampl=1.0):\n",
    "        'Dish - a single element in a telescope array at position (x,y) with diameter d and electric field amplitud ampl'\n",
    "        self.x = x\n",
    "        self.y = y\n",
    "        self.d = d\n",
    "        self.ampl = ampl\n",
    "        \n",
    "        def set_polar(self, r, theta):\n",
    "            'set position of Dish with polar coordinates'\n",
    "            self.x = r*np.cos(theta)\n",
    "            self.y = r*np.sin(theta)\n",
    "            \n",
    "        def get_polar(self):\n",
    "            r = np.sqrt(self.x*self.x + self.y*self.y)\n",
    "            theta = np.atan2(self.y, self.x)\n",
    "            return (r, theta)\n",
    "            \n",
    "\n",
    "class TelArray:\n",
    "    def __init__(self):\n",
    "        self.dishes = []\n",
    "        \n",
    "    def show_array(self):\n",
    "        fig, ax = plt.subplots(figsize=(6,6))\n",
    "        ax.set_xlim(-0.6,0.6)\n",
    "        ax.set_ylim(-0.6,0.6)\n",
    "        c = plt.Circle((0.0, 0.0), 0.5, fc=None, fill=False, linestyle='--', color='black', zorder=-5)\n",
    "        ax.add_artist(c)\n",
    "        for i, (a) in enumerate(self.dishes):\n",
    "            draw_circle = plt.Circle((a.x,a.y), a.d/2)\n",
    "            ax.add_artist(draw_circle)\n",
    "            ax.text(a.x, a.y, i, fontsize=16, color='white', weight='bold', horizontalalignment='center', verticalalignment='center')\n",
    "            \n",
    "            \n",
    "        plt.title('Telescope array')\n",
    "        plt.show()\n",
    "            \n",
    "    def add(self, Dish):\n",
    "        'add a Dish to the Array'\n",
    "        self.dishes.append(Dish)\n",
    "        \n",
    "    def add_linear(self, n=5, length=1., diam=0.1, ampl=1.0):\n",
    "        'a linear array of n Dishes with centre of first dish to last dish of length, diameter diam, transmission ampl'\n",
    "        xpos = np.linspace(-length/2., length/2., n)\n",
    "        for x in xpos:\n",
    "            print(x)\n",
    "            dish = Dish(x, 0., diam, ampl)\n",
    "            self.add(dish)\n",
    "            \n",
    "        \n",
    "    \n",
    "arr = TelArray()\n",
    "\n",
    "arr.add_linear(5,1-0.1)\n",
    "arr.dishes\n",
    "arr.show_array()\n",
    "        "
   ]
  },
  {
   "cell_type": "code",
   "execution_count": null,
   "metadata": {},
   "outputs": [],
   "source": []
  },
  {
   "cell_type": "code",
   "execution_count": null,
   "metadata": {},
   "outputs": [],
   "source": [
    "ndish = 5\n",
    "\n",
    "ddish = .1\n",
    "\n",
    "dish_x = np.linspace(-0.5+(ddish/2.), 0.5-(ddish/2.), ndish)\n",
    "\n",
    "dish_y = np.zeros_like(dish_x)\n",
    "\n",
    "interf_array = UnstructuredCoords((dish_x,dish_y))\n",
    "\n",
    "grid = Grid(interf_array)\n",
    "\n",
    "dish = circular_aperture(ddish) # this is a Field generator\n",
    "\n",
    "interferom = make_segmented_aperture(dish, grid, np.array([1.0]))\n",
    "\n",
    "pupil_grid = make_pupil_grid(1024,1.5)\n",
    "inter_pupil = evaluate_supersampled(interferom, pupil_grid, 8)\n",
    "\n",
    "imshow_field(inter_pupil)"
   ]
  },
  {
   "cell_type": "code",
   "execution_count": null,
   "metadata": {},
   "outputs": [],
   "source": [
    "focal_grid = make_focal_grid(8, 14)\n",
    "\n",
    "prop = FraunhoferPropagator(inter_pupil, focal_grid)\n",
    "\n",
    "wf = Wavefront(inter_pupil)\n",
    "focal_image = prop(wf).intensity\n",
    "imshow_field(np.log10(focal_image / focal_image.max()), vmin=-5, cmap='inferno')"
   ]
  },
  {
   "cell_type": "markdown",
   "metadata": {},
   "source": [
    "## HCIpy setup"
   ]
  },
  {
   "cell_type": "code",
   "execution_count": null,
   "metadata": {},
   "outputs": [],
   "source": [
    "ddish = Stage()\n",
    "ddish.add(Act(1.0, 0.05, 5,  'sig',10))\n",
    "ddish.add(Act(0.05, 0.1, 5,  'sig',10))\n",
    "ddish.add(Act(0.1, 0.2, 5,  'sig',10))\n",
    "\n",
    "print(ddish.total_time())\n",
    "\n",
    "t = np.arange(0,ddish.total_time(),0.05)\n",
    "\n",
    "plt.plot(t, ddish.t(t))"
   ]
  },
  {
   "cell_type": "code",
   "execution_count": null,
   "metadata": {},
   "outputs": [],
   "source": [
    "total_time_animation = ddish.total_time() # seconds\n",
    "frame_rate = 10          # frames per second\n",
    "total_frames = total_time_animation * frame_rate # seconds\n",
    "supersampling = 4\n",
    "\n",
    "plt.figure(figsize=(8,4))\n",
    "\n",
    "anim = FFMpegWriter('interferometers_{}.mp4'.format(anim_version), framerate=frame_rate)\n",
    "\n",
    "times = np.arange(0,total_time_animation, 1./frame_rate)\n",
    "\n",
    "dd = ddish.t(times)\n",
    "\n",
    "ndish = 5\n",
    "pupil_grid = make_pupil_grid(1024,1.5)\n",
    "focal_grid = make_focal_grid(8, 14)\n",
    "\n",
    "for t in progressbar(range(np.int(total_frames))):\n",
    "\n",
    "    dish = circular_aperture(dd[t]) # this is a Field generator\n",
    "\n",
    "    dish_x = np.linspace(-0.5+(dd[t]/2.), 0.5-(dd[t]/2.), ndish)\n",
    "\n",
    "    dish_y = np.zeros_like(dish_x)\n",
    "\n",
    "    interf_array = UnstructuredCoords((dish_x,dish_y))\n",
    "\n",
    "    grid = Grid(interf_array)\n",
    "    \n",
    "    interferom = make_segmented_aperture(dish, grid, np.array([1.0]))\n",
    "\n",
    "    inter_pupil = evaluate_supersampled(interferom, pupil_grid, supersampling)\n",
    "\n",
    "    plt.clf()\n",
    "#    plt.suptitle('Timestep %d / %d' % (t, total_frames))\n",
    "    \n",
    "    plt.subplot(1,2,1)\n",
    "    imshow_field(inter_pupil, cmap='gray')\n",
    "    plt.title('Aperture')\n",
    "    \n",
    "    plt.text(0.05,0.05,anim_version, fontsize=12, color='white',\n",
    "            horizontalalignment='left', verticalalignment='bottom',\n",
    "            transform=plt.gca().transAxes)\n",
    "    \n",
    "    prop = FraunhoferPropagator(inter_pupil, focal_grid)\n",
    "\n",
    "    wf = Wavefront(inter_pupil)\n",
    "    focal_image = prop(wf).intensity\n",
    "    \n",
    "    plt.subplot(1,2,2)\n",
    "    imshow_field(np.log10(focal_image / focal_image.max()), vmin=-5, cmap='inferno')\n",
    "    #plt.title('frame {} at time {:.2f}'.format(timestep, timestep/frame_rate))\n",
    "    plt.title('PSF')\n",
    "\n",
    "    plt.text(0.95,0.05,\"@mattkenworthy\", fontsize=12, color='white',\n",
    "        horizontalalignment='right', verticalalignment='bottom',\n",
    "        transform=plt.gca().transAxes)\n",
    "    \n",
    "    anim.add_frame()\n",
    "\n",
    "plt.close()\n",
    "anim.close()\n",
    "\n",
    "# Show created animation\n",
    "anim"
   ]
  },
  {
   "cell_type": "code",
   "execution_count": null,
   "metadata": {},
   "outputs": [],
   "source": [
    "!ffmpeg -i interferometers_v1.mp4 -vf \"fps=10,scale=400:-1:flags=lanczos\" -c:v pam -f image2pipe - | convert -delay 10 - -loop 0 -layers optimize interferometers_v1.gif"
   ]
  }
 ],
 "metadata": {
  "kernelspec": {
   "display_name": "Python 3",
   "language": "python",
   "name": "python3"
  },
  "language_info": {
   "codemirror_mode": {
    "name": "ipython",
    "version": 3
   },
   "file_extension": ".py",
   "mimetype": "text/x-python",
   "name": "python",
   "nbconvert_exporter": "python",
   "pygments_lexer": "ipython3",
   "version": "3.7.4"
  }
 },
 "nbformat": 4,
 "nbformat_minor": 4
}
