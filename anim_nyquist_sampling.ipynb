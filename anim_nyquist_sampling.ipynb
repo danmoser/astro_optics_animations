{
 "cells": [
  {
   "cell_type": "markdown",
   "metadata": {},
   "source": [
    "# Animation of aliasing and demonstration of the Nyquist frequency\n",
    "\n",
    "M Kenworthy // Leiden Observatory // kenworthy@strw.leidenuniv.nl"
   ]
  },
  {
   "cell_type": "code",
   "execution_count": 26,
   "metadata": {},
   "outputs": [],
   "source": [
    "import numpy as np\n",
    "import matplotlib.pyplot as plt\n",
    "from astropy import constants as c\n",
    "from astropy import units as u\n",
    "\n",
    "from hcipy import *\n",
    "\n",
    "from progressbar import progressbar \n",
    "\n",
    "from matplotlib import animation, rc\n",
    "\n",
    "anim_version = 'v1'\n",
    "\n",
    "from scenes import *\n"
   ]
  },
  {
   "cell_type": "code",
   "execution_count": 27,
   "metadata": {},
   "outputs": [
    {
     "data": {
      "text/plain": [
       "Text(0.5, 0, 'Pixels')"
      ]
     },
     "execution_count": 27,
     "metadata": {},
     "output_type": "execute_result"
    },
    {
     "data": {
      "image/png": "[encoded data removed]",
      "text/plain": [
       "<Figure size 576x288 with 2 Axes>"
      ]
     },
     "metadata": {
      "needs_background": "light"
     },
     "output_type": "display_data"
    }
   ],
   "source": [
    "fig, (ax1,ax2) = plt.subplots(2,1,figsize=(8,4))\n",
    "\n",
    "nx = 51\n",
    "ny = 11\n",
    "(y,x) = np.mgrid[0:ny,0:nx]\n",
    "y = y - ny/2.\n",
    "x = x - nx/2.\n",
    "\n",
    "period = 1.9 # period in pixels\n",
    "fine_x = np.linspace(-25,25,1001)\n",
    "sine = np.sin(2*np.pi*x/period)\n",
    "ax1.imshow(sine)\n",
    "ax2.plot(fine_x, np.sin(2*np.pi*fine_x/period),color='red')\n",
    "\n",
    "ax2.step(x[0], sine[0], where='mid', label='mid',color='blue')\n",
    "\n",
    "ax1.axes.get_xaxis().set_ticks([])\n",
    "ax1.axes.get_yaxis().set_ticks([])\n",
    "\n",
    "ax2.set_xlabel('Pixels')\n"
   ]
  },
  {
   "cell_type": "code",
   "execution_count": null,
   "metadata": {},
   "outputs": [],
   "source": [
    "periodic = Stage()\n",
    "periodic.add(Act(3.5, 1.2, 5,'sig',10))\n",
    "periodic.add(Act(1.2, 3.5, 5,'sig',10))\n",
    "#periodic.add(Act(0.7, 4.0, 5,'sig',5))\n",
    "#periodic.add(Act(4.0, 4.0, 2, 'sig',1))\n",
    "\n",
    "\n",
    "\n",
    "total_time_animation = periodic.total_time() # seconds\n",
    "frame_rate = 20          # frames per second\n",
    "total_frames = total_time_animation * frame_rate # seconds\n",
    "\n",
    "fig, (ax1,ax2) = plt.subplots(2,1,figsize=(8,4))\n",
    "\n",
    "anim = FFMpegWriter('nyquist_sampling_{}.mp4'.format(anim_version), framerate=frame_rate)\n",
    "\n",
    "\n",
    "times = np.arange(0,total_time_animation, 1./frame_rate)\n",
    "\n",
    "per = periodic.t(times)\n",
    "nx = 51\n",
    "ny = 11\n",
    "(y,x) = np.mgrid[0:ny,0:nx]\n",
    "y = y - ny/2.\n",
    "x = x - nx/2.\n",
    "fine_x = np.linspace(-25,25,1001)\n",
    "\n",
    "\n",
    "for t in progressbar(range(np.int(total_frames))):\n",
    "    ax1.clear()\n",
    "    ax2.clear()\n",
    "    period = per[t] # period in pixels\n",
    "    sine = np.sin(2*np.pi*x/period)\n",
    "    ax1.imshow(sine)\n",
    "    ax2.plot(fine_x, np.sin(2*np.pi*fine_x/period),color='red')\n",
    "\n",
    "    ax2.step(x[0], sine[0], where='mid', label='mid',color='blue')\n",
    "\n",
    "    ax1.axes.get_xaxis().set_ticks([])\n",
    "    ax1.axes.get_yaxis().set_ticks([])\n",
    "\n",
    "    ax2.set_xlabel('Pixels')\n",
    "    ax2.set_xlim(np.min(fine_x)-1,np.max(fine_x))\n",
    "\n",
    "    ax1.text(0.95,0.05,\"@mattkenworthy\", fontsize=12, color='white',\n",
    "    horizontalalignment='right', verticalalignment='bottom',\n",
    "    transform=ax1.transAxes)\n",
    "\n",
    "    ax1.text(0.05,0.05, anim_version, fontsize=20, color='white',\n",
    "    horizontalalignment='left', verticalalignment='bottom',\n",
    "    transform=ax1.transAxes)\n",
    "    \n",
    "    ax1.set_title('period={:.2f} pix'.format(period),fontsize=20)\n",
    "    \n",
    "    anim.add_frame()\n",
    "\n",
    "plt.close()\n",
    "anim.close()\n",
    "\n",
    "# Show created animation\n",
    "anim"
   ]
  },
  {
   "cell_type": "code",
   "execution_count": 30,
   "metadata": {},
   "outputs": [
    {
     "name": "stdout",
     "output_type": "stream",
     "text": [
      "ffmpeg version 4.3.1 Copyright (c) 2000-2020 the FFmpeg developers\n",
      "  built with Apple clang version 11.0.3 (clang-1103.0.32.62)\n",
      "  configuration: --prefix=/usr/local/Cellar/ffmpeg/4.3.1_1 --enable-shared --enable-pthreads --enable-version3 --enable-avresample --cc=clang --host-cflags= --host-ldflags= --enable-ffplay --enable-gnutls --enable-gpl --enable-libaom --enable-libbluray --enable-libdav1d --enable-libmp3lame --enable-libopus --enable-librav1e --enable-librubberband --enable-libsnappy --enable-libsrt --enable-libtesseract --enable-libtheora --enable-libvidstab --enable-libvorbis --enable-libvpx --enable-libwebp --enable-libx264 --enable-libx265 --enable-libxml2 --enable-libxvid --enable-lzma --enable-libfontconfig --enable-libfreetype --enable-frei0r --enable-libass --enable-libopencore-amrnb --enable-libopencore-amrwb --enable-libopenjpeg --enable-librtmp --enable-libspeex --enable-libsoxr --enable-videotoolbox --disable-libjack --disable-indev=jack\n",
      "  libavutil      56. 51.100 / 56. 51.100\n",
      "  libavcodec     58. 91.100 / 58. 91.100\n",
      "  libavformat    58. 45.100 / 58. 45.100\n",
      "  libavdevice    58. 10.100 / 58. 10.100\n",
      "  libavfilter     7. 85.100 /  7. 85.100\n",
      "  libavresample   4.  0.  0 /  4.  0.  0\n",
      "  libswscale      5.  7.100 /  5.  7.100\n",
      "  libswresample   3.  7.100 /  3.  7.100\n",
      "  libpostproc    55.  7.100 / 55.  7.100\n",
      "Input #0, mov,mp4,m4a,3gp,3g2,mj2, from 'nyquist_sampling_v1.mp4':\n",
      "  Metadata:\n",
      "    major_brand     : isom\n",
      "    minor_version   : 512\n",
      "    compatible_brands: isomiso2avc1mp41\n",
      "    encoder         : Lavf58.45.100\n",
      "  Duration: 00:00:10.00, start: 0.000000, bitrate: 1034 kb/s\n",
      "    Stream #0:0(und): Video: h264 (High) (avc1 / 0x31637661), yuv420p, 576x288 [SAR 1:1 DAR 2:1], 1032 kb/s, 20 fps, 20 tbr, 10240 tbn, 40 tbc (default)\n",
      "    Metadata:\n",
      "      handler_name    : VideoHandler\n",
      "Stream mapping:\n",
      "  Stream #0:0 -> #0:0 (h264 (native) -> pam (native))\n",
      "Press [q] to stop, [?] for help\n",
      "Output #0, image2pipe, to 'pipe:':\n",
      "  Metadata:\n",
      "    major_brand     : isom\n",
      "    minor_version   : 512\n",
      "    compatible_brands: isomiso2avc1mp41\n",
      "    encoder         : Lavf58.45.100\n",
      "    Stream #0:0(und): Video: pam, rgb24, 400x200 [SAR 1:1 DAR 2:1], q=2-31, 200 kb/s, 10 fps, 10 tbn, 10 tbc (default)\n",
      "    Metadata:\n",
      "      handler_name    : VideoHandler\n",
      "      encoder         : Lavc58.91.100 pam\n",
      "frame=  100 fps=0.0 q=-0.0 Lsize=   23444kB time=00:00:10.00 bitrate=19205.0kbits/s speed=35.3x    \n",
      "video:23444kB audio:0kB subtitle:0kB other streams:0kB global headers:0kB muxing overhead: 0.000000%\n"
     ]
    }
   ],
   "source": [
    "!ffmpeg -i nyquist_sampling_v1.mp4 -vf \"fps=10,scale=400:-1:flags=lanczos\" -c:v pam -f image2pipe - | convert -delay 10 - -loop 0 -layers optimize nyquist_sampling_v1.gif"
   ]
  },
  {
   "cell_type": "code",
   "execution_count": null,
   "metadata": {},
   "outputs": [],
   "source": []
  }
 ],
 "metadata": {
  "kernelspec": {
   "display_name": "Python 3",
   "language": "python",
   "name": "python3"
  },
  "language_info": {
   "codemirror_mode": {
    "name": "ipython",
    "version": 3
   },
   "file_extension": ".py",
   "mimetype": "text/x-python",
   "name": "python",
   "nbconvert_exporter": "python",
   "pygments_lexer": "ipython3",
   "version": "3.7.4"
  }
 },
 "nbformat": 4,
 "nbformat_minor": 4
}
