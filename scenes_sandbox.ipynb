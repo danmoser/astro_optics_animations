{
 "cells": [
  {
   "cell_type": "code",
   "execution_count": 236,
   "metadata": {},
   "outputs": [],
   "source": [
    "import numpy as np\n",
    "class Act:\n",
    "    def __init__(self, start, end, dt=1, met=\"lin\", c=2.):\n",
    "        self.start = start\n",
    "        self.end = end\n",
    "        self.met = met\n",
    "        self.c = c\n",
    "        self.dt = dt\n",
    "        \n",
    "    def at(self, t):\n",
    "        'print value of the variable at time t from start of Act'\n",
    "        # clamp t outside dt to the limits\n",
    "        if t < 0:\n",
    "            t = self.start\n",
    "            \n",
    "        if t > self.dt:\n",
    "            t = self.end\n",
    "            \n",
    "        # normalise t values so that they lie between 0 and 1\n",
    "        tn = t/self.dt\n",
    "        \n",
    "        if self.met==\"sig\":\n",
    "            y = 1./(1.+np.exp(-self.c*(tn-0.5)))\n",
    "        elif self.met==\"pow\":\n",
    "            y = tn**self.c\n",
    "        else:\n",
    "            y = tn\n",
    "        # convert the y 0 to 1 values back to start and end values\n",
    "        val = (y * (self.end - self.start)) + self.start\n",
    "        \n",
    "        return val\n",
    "\n",
    "class Stage:\n",
    "    def __init__(self):\n",
    "        self.acts = []\n",
    "            \n",
    "    def add(self, Act):\n",
    "        self.acts.append(Act)\n",
    "        \n",
    "    def total_time(self):\n",
    "        total_time = 0.\n",
    "        for a in self.acts:\n",
    "            total_time += a.dt\n",
    "        return total_time\n",
    "    \n",
    "    def begin_acts(self):\n",
    "        'which Act in the list does time t reside?'\n",
    "        times = [0]\n",
    "        end_time = 0.\n",
    "        for a in self.acts:\n",
    "            end_time+=a.dt\n",
    "            times.append(end_time)\n",
    "            \n",
    "        return np.array(times)\n",
    "        \n",
    "    def t(self,t):\n",
    "        'evaluate Scene for a numpy array of times'\n",
    "        \n",
    "        # make a 2D array of \n",
    "        closest_act = t[:,np.newaxis]-self.begin_acts()\n",
    "\n",
    "        # the location and smallest positive value in each row tells you the Act postion and the time t to look up\n",
    "        nonegs = np.ma.masked_less(closest_act, 0)\n",
    "        \n",
    "        act_indices = np.ma.argmin(nonegs,axis=1)\n",
    "        act_t_values = np.ma.min(nonegs,axis=1)\n",
    "        \n",
    "        out = np.zeros_like(act_t_values, dtype=np.float32)\n",
    "        \n",
    "        for i, (actpos, t) in enumerate(zip(act_indices,act_t_values)):\n",
    "            out[i] = self.acts[actpos].at(t)\n",
    "            \n",
    "        return out\n",
    "        "
   ]
  },
  {
   "cell_type": "code",
   "execution_count": 237,
   "metadata": {},
   "outputs": [
    {
     "data": {
      "text/plain": [
       "array([ 0. ,  1. ,  9. , 19. , 24. , 24.5])"
      ]
     },
     "execution_count": 237,
     "metadata": {},
     "output_type": "execute_result"
    }
   ],
   "source": [
    "a = Stage()\n",
    "a.add(Act(1,2,1))\n",
    "a.add(Act(2,-1,8,'pow',0.1))\n",
    "a.add(Act(-1,0,10))\n",
    "a.add(Act(0,np.pi,5))\n",
    "a.add(Act(np.pi,2,.5))\n",
    "\n",
    "a.acts\n",
    "a.begin_acts()"
   ]
  },
  {
   "cell_type": "code",
   "execution_count": 238,
   "metadata": {},
   "outputs": [
    {
     "data": {
      "text/plain": [
       "24.5"
      ]
     },
     "execution_count": 238,
     "metadata": {},
     "output_type": "execute_result"
    }
   ],
   "source": [
    "a.total_time()"
   ]
  },
  {
   "cell_type": "code",
   "execution_count": 239,
   "metadata": {},
   "outputs": [
    {
     "data": {
      "text/plain": [
       "<matplotlib.collections.PathCollection at 0x7fd4c1b38d90>"
      ]
     },
     "execution_count": 239,
     "metadata": {},
     "output_type": "execute_result"
    },
    {
     "data": {
      "image/png": "[encoded data removed]",
      "text/plain": [
       "<Figure size 432x288 with 1 Axes>"
      ]
     },
     "metadata": {
      "needs_background": "light"
     },
     "output_type": "display_data"
    }
   ],
   "source": [
    "import matplotlib.pyplot as plt\n",
    "t = np.arange(0,10.5,0.05)\n",
    "plt.scatter(t, a.t(t))"
   ]
  },
  {
   "cell_type": "code",
   "execution_count": null,
   "metadata": {},
   "outputs": [],
   "source": []
  },
  {
   "cell_type": "markdown",
   "metadata": {},
   "source": [
    "## power law"
   ]
  },
  {
   "cell_type": "code",
   "execution_count": 243,
   "metadata": {},
   "outputs": [
    {
     "data": {
      "text/plain": [
       "[<matplotlib.lines.Line2D at 0x7fd4c1e4b910>]"
      ]
     },
     "execution_count": 243,
     "metadata": {},
     "output_type": "execute_result"
    },
    {
     "data": {
      "image/png": "[encoded data removed]",
      "text/plain": [
       "<Figure size 432x288 with 1 Axes>"
      ]
     },
     "metadata": {
      "needs_background": "light"
     },
     "output_type": "display_data"
    }
   ],
   "source": [
    "x = np.arange(0,1,0.01)\n",
    "c = 0.5\n",
    "plt.plot(x,x**c)"
   ]
  },
  {
   "cell_type": "markdown",
   "metadata": {},
   "source": [
    "## sigmoid\n"
   ]
  },
  {
   "cell_type": "code",
   "execution_count": 241,
   "metadata": {},
   "outputs": [
    {
     "data": {
      "text/plain": [
       "[<matplotlib.lines.Line2D at 0x7fd4c1cd6090>]"
      ]
     },
     "execution_count": 241,
     "metadata": {},
     "output_type": "execute_result"
    },
    {
     "data": {
      "image/png": "[encoded data removed]",
      "text/plain": [
       "<Figure size 432x288 with 1 Axes>"
      ]
     },
     "metadata": {
      "needs_background": "light"
     },
     "output_type": "display_data"
    }
   ],
   "source": [
    "c=20\n",
    "plt.plot(x,1./(1.+np.exp(-c*(x-0.5))))"
   ]
  },
  {
   "cell_type": "code",
   "execution_count": null,
   "metadata": {},
   "outputs": [],
   "source": []
  }
 ],
 "metadata": {
  "kernelspec": {
   "display_name": "Python 3",
   "language": "python",
   "name": "python3"
  },
  "language_info": {
   "codemirror_mode": {
    "name": "ipython",
    "version": 3
   },
   "file_extension": ".py",
   "mimetype": "text/x-python",
   "name": "python",
   "nbconvert_exporter": "python",
   "pygments_lexer": "ipython3",
   "version": "3.7.4"
  }
 },
 "nbformat": 4,
 "nbformat_minor": 4
}
