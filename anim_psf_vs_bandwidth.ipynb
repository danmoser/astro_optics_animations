{
 "cells": [
  {
   "cell_type": "markdown",
   "metadata": {},
   "source": [
    "# Animation of the PSF as a function of bandwidth\n",
    "\n",
    "_M Kenworthy_ Leiden Observatory kenworthy@strw.leidenuniv.nl\n",
    "\n",
    "Based on hcipy tutorials https://docs.hcipy.org/0.3.1/tutorials/index.html and examples, and http://louistiao.me/posts/notebooks/embedding-matplotlib-animations-in-jupyter-as-interactive-javascript-widgets/\n"
   ]
  },
  {
   "cell_type": "code",
   "execution_count": null,
   "metadata": {},
   "outputs": [],
   "source": [
    "import numpy as np\n",
    "import matplotlib.pyplot as plt\n",
    "\n",
    "from hcipy import *\n",
    "from scenes import *\n",
    "\n",
    "%matplotlib inline\n",
    "\n",
    "anim_version='v2'"
   ]
  },
  {
   "cell_type": "code",
   "execution_count": null,
   "metadata": {},
   "outputs": [],
   "source": [
    "pupil_grid = make_pupil_grid(256)\n",
    "\n",
    "telescope_pupil_generator = make_magellan_aperture(normalized=True)\n",
    "\n",
    "telescope_pupil = telescope_pupil_generator(pupil_grid)\n",
    "\n",
    "im = imshow_field(telescope_pupil, cmap='gray')\n",
    "plt.colorbar()\n",
    "plt.xlabel('x / D')\n",
    "plt.ylabel('y / D')\n",
    "plt.show()"
   ]
  },
  {
   "cell_type": "code",
   "execution_count": null,
   "metadata": {},
   "outputs": [],
   "source": [
    "wavefront = Wavefront(telescope_pupil)\n",
    "\n",
    "focal_grid = make_focal_grid(q=8, num_airy=16)\n",
    "prop = FraunhoferPropagator(pupil_grid, focal_grid)\n",
    "\n",
    "focal_image = prop.forward(wavefront)\n",
    "\n",
    "imshow_field(np.log10(focal_image.intensity / focal_image.intensity.max()), vmin=-5)\n",
    "plt.xlabel('Focal plane distance [$\\lambda/D$]')\n",
    "plt.ylabel('Focal plane distance [$\\lambda/D$]')\n",
    "plt.colorbar()\n",
    "plt.show()"
   ]
  },
  {
   "cell_type": "code",
   "execution_count": null,
   "metadata": {},
   "outputs": [],
   "source": [
    "f, (a0, a1) = plt.subplots(1,2, figsize=(12,6))\n",
    "\n",
    "imshow_field(telescope_pupil, ax=a0)\n",
    "imshow_field(np.log10(focal_image.intensity / focal_image.intensity.max()), vmin=-5, ax=a1)\n"
   ]
  },
  {
   "cell_type": "code",
   "execution_count": null,
   "metadata": {},
   "outputs": [],
   "source": [
    "\n",
    "from matplotlib import animation, rc\n",
    "from IPython.display import HTML"
   ]
  },
  {
   "cell_type": "code",
   "execution_count": null,
   "metadata": {},
   "outputs": [],
   "source": [
    "fig, ax = plt.subplots()\n",
    "bandwidth = 0.2\n",
    "focal_total = 0\n",
    "\n",
    "for wlen in np.linspace(1 - bandwidth / 2., 1 + bandwidth / 2., 11):\n",
    "    wavefront = Wavefront(telescope_pupil, wlen)\n",
    "    focal_total += prop(wavefront).intensity\n",
    "\n",
    "im = imshow_field(np.log10(focal_total / focal_total.max()), vmin=-5, ax=ax)\n",
    "\n",
    "te = ax.text(0.23,0.9,\"$\\Delta \\lambda/\\lambda ={:.2f}$\".format(bandwidth),\n",
    "             fontsize=20, color='white',\n",
    "             horizontalalignment='left', verticalalignment='center',\n",
    "             transform=ax.transAxes)\n",
    "\n",
    "cbar = plt.colorbar()\n",
    "cbar.set_label('$\\log10$ (Normalised PSF intensity)', rotation=90)\n",
    "\n",
    "ax.text(0.95,0.05,\"@mattkenworthy\", fontsize=12, color='white',\n",
    "            horizontalalignment='right', verticalalignment='bottom',\n",
    "            transform=ax.transAxes)\n",
    "\n",
    "\n",
    "ax.text(0.05,0.05,anim_version, fontsize=12, color='white',\n",
    "            horizontalalignment='left', verticalalignment='bottom',\n",
    "            transform=ax.transAxes)"
   ]
  },
  {
   "cell_type": "code",
   "execution_count": null,
   "metadata": {},
   "outputs": [],
   "source": [
    "total_time_animation = 11 # seconds\n",
    "frame_rate = 10          # frames per second\n",
    "total_frames = total_time_animation * frame_rate # seconds\n",
    "interval = np.int(1000./frame_rate) # milliseconds\n",
    "\n",
    "bandwidth = Stage()\n",
    "bandwidth.add(Act(0.01,0.5,5,'sig',10))\n",
    "bandwidth.add(Act(0.5,0.01,6,'sig',10))\n",
    "print(np.linspace(0,bandwidth.total_time(),total_frames))\n",
    "print(bandwidth.total_time())\n",
    "myb = bandwidth.t(np.linspace(0,bandwidth.total_time()-0.05,total_frames))\n",
    "print(myb)"
   ]
  },
  {
   "cell_type": "code",
   "execution_count": null,
   "metadata": {},
   "outputs": [],
   "source": [
    "def animate(i):    \n",
    "    focal_total = 0\n",
    "    curr_band = myb[i]\n",
    "    for wlen in np.linspace(1 - curr_band / 2., 1 + curr_band / 2., 11):\n",
    "        wavefront = Wavefront(telescope_pupil, wlen)\n",
    "        focal_total += prop(wavefront).intensity\n",
    "        \n",
    "    im = imshow_field(np.log10(focal_total / focal_total.max()), vmin=-5, ax=ax)\n",
    "    te.set_text(\"$\\Delta \\lambda/\\lambda ={:.2f}$\".format(curr_band))\n",
    "    return [im]\n",
    "\n",
    "anim = animation.FuncAnimation(fig, animate,\n",
    "                               frames=total_frames, interval=interval, \n",
    "                               blit=True,\n",
    "                               repeat=True, repeat_delay=1000)\n",
    "\n",
    "HTML(anim.to_html5_video())"
   ]
  },
  {
   "cell_type": "code",
   "execution_count": null,
   "metadata": {},
   "outputs": [],
   "source": [
    "###HTML(anim.to_jshtml())\n"
   ]
  },
  {
   "cell_type": "code",
   "execution_count": null,
   "metadata": {},
   "outputs": [],
   "source": [
    "anim.save('./anim_psf_vs_bandwidth_{}.gif'.format(anim_version), writer='imagemagick', fps=frame_rate)\n",
    "print('done!')"
   ]
  },
  {
   "cell_type": "code",
   "execution_count": null,
   "metadata": {},
   "outputs": [],
   "source": []
  }
 ],
 "metadata": {
  "kernelspec": {
   "display_name": "Python 3",
   "language": "python",
   "name": "python3"
  },
  "language_info": {
   "codemirror_mode": {
    "name": "ipython",
    "version": 3
   },
   "file_extension": ".py",
   "mimetype": "text/x-python",
   "name": "python",
   "nbconvert_exporter": "python",
   "pygments_lexer": "ipython3",
   "version": "3.7.4"
  }
 },
 "nbformat": 4,
 "nbformat_minor": 4
}
