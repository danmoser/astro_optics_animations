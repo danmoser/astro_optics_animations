{
 "cells": [
  {
   "cell_type": "markdown",
   "metadata": {},
   "source": [
    "# Animation of the PSF of interferometers\n",
    "\n",
    "_M Kenworthy_ Leiden Observatory kenworthy@strw.leidenuniv.nl\n",
    "\n",
    "Based on hcipy tutorials https://docs.hcipy.org/0.3.1/tutorials/index.html and examples, and http://louistiao.me/posts/notebooks/embedding-matplotlib-animations-in-jupyter-as-interactive-javascript-widgets/\n"
   ]
  },
  {
   "cell_type": "code",
   "execution_count": 1,
   "metadata": {},
   "outputs": [],
   "source": [
    "#pip install progressbar2"
   ]
  },
  {
   "cell_type": "code",
   "execution_count": 2,
   "metadata": {},
   "outputs": [],
   "source": [
    "#pip install ffpmeg"
   ]
  },
  {
   "cell_type": "code",
   "execution_count": 3,
   "metadata": {},
   "outputs": [],
   "source": [
    "import numpy as np\n",
    "import matplotlib.pyplot as plt\n",
    "\n",
    "from hcipy import *\n",
    "from scenes import *\n",
    "\n",
    "from progressbar import progressbar \n",
    "\n",
    "anim_version='v1'"
   ]
  },
  {
   "cell_type": "code",
   "execution_count": 4,
   "metadata": {},
   "outputs": [],
   "source": [
    "\n",
    "# These modules are used for animating some of the graphs in our notebook.\n",
    "from matplotlib import animation, rc\n",
    "#from IPython.display import HTML\n"
   ]
  },
  {
   "cell_type": "markdown",
   "metadata": {},
   "source": [
    "## HCIpy setup"
   ]
  },
  {
   "cell_type": "code",
   "execution_count": 6,
   "metadata": {},
   "outputs": [],
   "source": [
    "pupil_grid = make_pupil_grid(256, 1.5)\n",
    "focal_grid = make_focal_grid(8, 12)\n",
    "prop = FraunhoferPropagator(pupil_grid, focal_grid)"
   ]
  },
  {
   "cell_type": "code",
   "execution_count": 7,
   "metadata": {},
   "outputs": [],
   "source": [
    "aperture = circular_aperture?"
   ]
  },
  {
   "cell_type": "code",
   "execution_count": 15,
   "metadata": {},
   "outputs": [
    {
     "data": {
      "text/plain": [
       "<matplotlib.image.NonUniformImage at 0x7f8792e32110>"
      ]
     },
     "execution_count": 15,
     "metadata": {},
     "output_type": "execute_result"
    },
    {
     "data": {
      "image/png": "[encoded data removed]",
      "text/plain": [
       "<Figure size 432x288 with 1 Axes>"
      ]
     },
     "metadata": {
      "needs_background": "light"
     },
     "output_type": "display_data"
    }
   ],
   "source": [
    "aperture1 = circular_aperture(0.5,(0.2,0.2))\n",
    "aperture2 = circular_aperture(0.5)\n",
    "\n",
    "f1 = aperture1(pupil_grid) * aperture2(pupil_grid)\n",
    "\n",
    "imshow_field(f1)\n"
   ]
  },
  {
   "cell_type": "code",
   "execution_count": null,
   "metadata": {},
   "outputs": [],
   "source": [
    "\n",
    "aperture = make_obstructed_circular_aperture(0.8, 0.10, 2, 0.01)\n",
    "angle = 20 * np.pi / 180 # radians\n",
    "supersampling = 4\n",
    "\n",
    "supersampled_pupil_grid = make_supersampled_grid(pupil_grid, supersampling)\n",
    "\n",
    "sdf = Field(aperture(supersampled_pupil_grid.rotated(-angle)), supersampled_pupil_grid)\n",
    "\n",
    "telescope_pupil = subsample_field(sdf, supersampling)\n",
    "\n",
    "fig, (a1, a2) = plt.subplots(1,2,figsize=(8,4))\n",
    "imshow_field(telescope_pupil, cmap='gray', ax=a1)\n",
    "a1.set_title('Aperture')\n",
    "a2.set_title('PSF')\n",
    "\n",
    "wf = Wavefront(telescope_pupil)\n",
    "im1 = focal_image = prop(wf).intensity\n",
    "im2 = imshow_field(np.log10(focal_image / focal_image.max()), vmin=-5, cmap='inferno', ax=a2)\n",
    "\n",
    "\n",
    "plt.show()\n"
   ]
  },
  {
   "cell_type": "code",
   "execution_count": null,
   "metadata": {},
   "outputs": [],
   "source": [
    "\n",
    "pupil_diameter = Stage()\n",
    "pupil_diameter.add(Act(0.5, 1.0, 2,  'sig',10))\n",
    "pupil_diameter.add(Act(1.0, 1.0, 14, 'sig',10))\n",
    "pupil_diameter.add(Act(1.0, 0.5, 2,  'sig',10))\n",
    "print(pupil_diameter.total_time())\n",
    "\n",
    "angle = Stage()\n",
    "angle.add(Act(0.0, 0.0,  9,'sig',10))\n",
    "angle.add(Act(0.0, 180., 1,'sig',10))\n",
    "angle.add(Act(180, 0, 1 ,'sig',10))\n",
    "angle.add(Act(0, 0.0, 3,'sig',10))\n",
    "angle.add(Act(0.0, 90., 1,'sig',10))\n",
    "angle.add(Act(90, 0, 1 ,'sig',10))\n",
    "angle.add(Act(0, 0.0, 1,'sig',10))\n",
    "angle.add(Act(0.0, 0.0,  1,'sig',10))\n",
    "print(angle.total_time())\n",
    "\n",
    "wids = Stage()\n",
    "wids.add(Act(0.0, 0.0, 5, 'sig', 10))\n",
    "wids.add(Act(0.0, 0.1, 2, 'sig', 10))\n",
    "wids.add(Act(0.1, 0.1, 1, 'sig', 10))\n",
    "wids.add(Act(0.1, 0.05, 2, 'sig', 10))\n",
    "#wids.add(Act(0.1, 0.1, 6, 'sig', 10))\n",
    "\n",
    "wids.add(Act(0.05, 0.05, 2.5, 'sig', 10))\n",
    "wids.add(Act(0.05, 0.0, 0.50, 'sig', 10))\n",
    "wids.add(Act(0.0, 0.05, 0.50, 'sig', 10))\n",
    "wids.add(Act(0.05, 0.05, 2.5, 'sig', 10))\n",
    "\n",
    "\n",
    "wids.add(Act(0.05, 0.0, 1, 'sig', 10))\n",
    "wids.add(Act(0.0, 0.0, 1, 'sig', 10))\n",
    "print(wids.total_time())\n",
    "seco = Stage()\n",
    "seco.add(Act(0.0, 0.0, 2, 'sig', 10))\n",
    "seco.add(Act(0.0, 0.7, 2, 'sig', 10))\n",
    "seco.add(Act(0.7, 0.3, 1, 'sig', 10))\n",
    "seco.add(Act(0.3, 0.3, 11, 'sig', 10))\n",
    "seco.add(Act(0.3, 0.0, 2, 'sig', 10))\n",
    "print(seco.total_time())\n",
    "\n",
    "nspines = Stage()\n",
    "\n",
    "nspines.add(Act(2., 2., 13.0))\n",
    "nspines.add(Act(4., 4., 5.0))\n",
    "\n",
    "t = np.arange(0,pupil_diameter.total_time(),0.05)\n",
    "\n",
    "plt.plot(t, pupil_diameter.t(t))\n",
    "plt.plot(t, angle.t(t)/180.)\n",
    "plt.plot(t, wids.t(t))\n",
    "plt.plot(t, seco.t(t))\n",
    "plt.plot(t, nspines.t(t)/6)"
   ]
  },
  {
   "cell_type": "code",
   "execution_count": null,
   "metadata": {},
   "outputs": [],
   "source": [
    "total_time_animation = pupil_diameter.total_time() # seconds\n",
    "frame_rate = 10          # frames per second\n",
    "total_frames = total_time_animation * frame_rate # seconds\n",
    "supersampling = 4\n",
    "\n",
    "plt.figure(figsize=(8,4))\n",
    "\n",
    "anim = FFMpegWriter('video.mp4', framerate=frame_rate)\n",
    "\n",
    "times = np.arange(0,total_time_animation, 1./frame_rate)\n",
    "\n",
    "pd = pupil_diameter.t(times)\n",
    "an = angle.t(times)\n",
    "wi = wids.t(times)\n",
    "se = seco.t(times)\n",
    "ns = (nspines.t(times)).astype(int)\n",
    "for t in progressbar(range(np.int(total_frames))):\n",
    "    aperture = make_obstructed_circular_aperture(pd[t], se[t], ns[t], wi[t])\n",
    "    ang = an[t] * np.pi / 180 # radians\n",
    "\n",
    "    supersampled_pupil_grid = make_supersampled_grid(pupil_grid, supersampling)\n",
    "\n",
    "    sdf = Field(aperture(supersampled_pupil_grid.rotated(-ang)), supersampled_pupil_grid)\n",
    "\n",
    "    telescope_pupil = subsample_field(sdf, supersampling)\n",
    "\n",
    "    plt.clf()\n",
    "#    plt.suptitle('Timestep %d / %d' % (t, total_frames))\n",
    "    \n",
    "    plt.subplot(1,2,1)\n",
    "    imshow_field(telescope_pupil, cmap='gray')\n",
    "    plt.title('Aperture')\n",
    "    \n",
    "    plt.text(0.05,0.05,anim_version, fontsize=12, color='white',\n",
    "            horizontalalignment='left', verticalalignment='bottom',\n",
    "            transform=plt.gca().transAxes)\n",
    "    \n",
    "\n",
    "\n",
    "    wf = Wavefront(telescope_pupil)\n",
    "    focal_image = prop(wf).intensity\n",
    "    \n",
    "    plt.subplot(1,2,2)\n",
    "    imshow_field(np.log10(focal_image / focal_image.max()), vmin=-5, cmap='inferno')\n",
    "    #plt.title('frame {} at time {:.2f}'.format(timestep, timestep/frame_rate))\n",
    "    plt.title('PSF')\n",
    "\n",
    "    plt.text(0.95,0.05,\"@mattkenworthy\", fontsize=12, color='white',\n",
    "        horizontalalignment='right', verticalalignment='bottom',\n",
    "        transform=plt.gca().transAxes)\n",
    "\n",
    "\n",
    "    \n",
    "    \n",
    "    anim.add_frame()\n",
    "\n",
    "plt.close()\n",
    "anim.close()\n",
    "\n",
    "# Show created animation\n",
    "anim\n",
    "    \n"
   ]
  },
  {
   "cell_type": "code",
   "execution_count": null,
   "metadata": {},
   "outputs": [],
   "source": [
    "# ffmpeg -i video.mp4 -vf \"fps=10,scale=400:-1:flags=lanczos\" -c:v pam -f image2pipe - | convert -delay 10 - -loop 0 -layers optimize output.gif"
   ]
  }
 ],
 "metadata": {
  "kernelspec": {
   "display_name": "Python 3",
   "language": "python",
   "name": "python3"
  },
  "language_info": {
   "codemirror_mode": {
    "name": "ipython",
    "version": 3
   },
   "file_extension": ".py",
   "mimetype": "text/x-python",
   "name": "python",
   "nbconvert_exporter": "python",
   "pygments_lexer": "ipython3",
   "version": "3.7.4"
  }
 },
 "nbformat": 4,
 "nbformat_minor": 4
}
