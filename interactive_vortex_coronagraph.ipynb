{
 "cells": [
  {
   "cell_type": "markdown",
   "metadata": {},
   "source": [
    "# Interactive vortex coronagraph\n",
    "\n",
    "M Kenworthy // Leiden Observatory // kenworthy@strw.leidenuniv.nl\n",
    "\n",
    "Based on E. Por hcipy tutorials\n"
   ]
  },
  {
   "cell_type": "code",
   "execution_count": 1,
   "metadata": {},
   "outputs": [],
   "source": [
    "from hcipy import *\n",
    "import numpy as np\n",
    "import matplotlib as mpl\n",
    "import matplotlib.pyplot as plt\n",
    "\n",
    "import ipywidgets as widgets\n",
    "from ipywidgets import interactive\n",
    "\n"
   ]
  },
  {
   "cell_type": "code",
   "execution_count": 2,
   "metadata": {},
   "outputs": [],
   "source": [
    "mpl.rcParams['figure.dpi'] = 100\n",
    "\n",
    "pupil_grid = make_pupil_grid(256, 1.5)\n",
    "focal_grid = make_focal_grid(8, 12)\n",
    "prop = FraunhoferPropagator(pupil_grid, focal_grid)\n",
    "\n",
    "aperture = evaluate_supersampled(circular_aperture(1), pupil_grid, 4)\n",
    "\n",
    "wf = Wavefront(aperture)\n",
    "img_ref = prop(wf).intensity\n",
    "\n",
    "charge = 2\n",
    "coro = VortexCoronagraph(pupil_grid, charge)\n"
   ]
  },
  {
   "cell_type": "code",
   "execution_count": 3,
   "metadata": {},
   "outputs": [
    {
     "data": {
      "application/vnd.jupyter.widget-view+json": {
       "model_id": "dc4e20b5d01744839e44755cbdf78042",
       "version_major": 2,
       "version_minor": 0
      },
      "text/plain": [
       "interactive(children=(FloatSlider(value=2.5, description='dy', max=5.0), FloatSlider(value=0.8500000000000001,…"
      ]
     },
     "metadata": {},
     "output_type": "display_data"
    }
   ],
   "source": [
    "\n",
    "def f(dy, b):\n",
    "    fig, (x1,x2,x3,x4) = plt.subplots(1,4,figsize=(12,3))\n",
    "    wf = Wavefront(aperture * np.exp(2j * np.pi * pupil_grid.y * dy))\n",
    "\n",
    "    img_ref = prop(wf).intensity\n",
    "    \n",
    "    imshow_field(np.log10(img_ref / img_ref.max()), vmin=-5, vmax=0, cmap='inferno', ax=x1)\n",
    "\n",
    "    pupil_image = coro(wf)\n",
    "    \n",
    "    lyot_mask = evaluate_supersampled(circular_aperture(b), pupil_grid, 4)\n",
    "    \n",
    "    lyot_stop = Apodizer(lyot_mask)\n",
    "    \n",
    "    after_lyot_stop = lyot_stop(pupil_image)\n",
    "    \n",
    "    imshow_field(after_lyot_stop.intensity, vmax=2, cmap='inferno',ax=x3)\n",
    "    \n",
    "    img = prop(after_lyot_stop).intensity\n",
    "    \n",
    "    imshow_field(pupil_image.intensity, vmax=2, cmap='inferno',ax=x2)\n",
    "\n",
    "    imshow_field(np.log10(img / img_ref.max()), vmin=-5, vmax=0, cmap='inferno', ax=x4)\n",
    "    plt.show()\n",
    "\n",
    "interactive_plot = interactive(f, dy=(0.0, 5.0), b=(0.2, 1.5))\n",
    "output = interactive_plot.children[-1]\n",
    "output.layout.height = '350px'\n",
    "interactive_plot"
   ]
  }
 ],
 "metadata": {
  "kernelspec": {
   "display_name": "Python 3",
   "language": "python",
   "name": "python3"
  },
  "language_info": {
   "codemirror_mode": {
    "name": "ipython",
    "version": 3
   },
   "file_extension": ".py",
   "mimetype": "text/x-python",
   "name": "python",
   "nbconvert_exporter": "python",
   "pygments_lexer": "ipython3",
   "version": "3.7.4"
  }
 },
 "nbformat": 4,
 "nbformat_minor": 4
}
