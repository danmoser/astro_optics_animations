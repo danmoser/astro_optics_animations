{
 "cells": [
  {
   "cell_type": "markdown",
   "metadata": {},
   "source": [
    "# Interactive vortex coronagraph\n",
    "\n",
    "M Kenworthy // Leiden Observatory // kenworthy@strw.leidenuniv.nl\n",
    "\n",
    "Based on E. Por hcipy tutorials\n"
   ]
  },
  {
   "cell_type": "code",
   "execution_count": 1,
   "metadata": {},
   "outputs": [],
   "source": [
    "from hcipy import *\n",
    "import numpy as np\n",
    "import matplotlib as mpl\n",
    "import matplotlib.pyplot as plt\n",
    "import matplotlib.patches as patches\n",
    "\n",
    "\n",
    "import ipywidgets as widgets\n",
    "from ipywidgets import interactive\n",
    "\n"
   ]
  },
  {
   "cell_type": "code",
   "execution_count": 2,
   "metadata": {},
   "outputs": [],
   "source": [
    "mpl.rcParams['figure.dpi'] = 100\n",
    "\n",
    "pupil_grid = make_pupil_grid(128, 1.5)\n",
    "focal_grid = make_focal_grid(8, 12)\n",
    "prop = FraunhoferPropagator(pupil_grid, focal_grid)\n",
    "\n",
    "aperture = evaluate_supersampled(circular_aperture(1), pupil_grid, 4)\n",
    "\n",
    "wf = Wavefront(aperture)\n",
    "img_ref = prop(wf).intensity\n",
    "\n",
    "charge = 2\n",
    "coro = VortexCoronagraph(pupil_grid, charge)\n"
   ]
  },
  {
   "cell_type": "code",
   "execution_count": 4,
   "metadata": {},
   "outputs": [
    {
     "data": {
      "application/vnd.jupyter.widget-view+json": {
       "model_id": "3a107b9364bc4a888484c74ac84c4da9",
       "version_major": 2,
       "version_minor": 0
      },
      "text/plain": [
       "interactive(children=(FloatSlider(value=2.5, description='dy', max=5.0), FloatSlider(value=0.8500000000000001,…"
      ]
     },
     "metadata": {},
     "output_type": "display_data"
    }
   ],
   "source": [
    "def addtext(a,s):\n",
    "    a.text(0.05, 0.95, s, ha='left', va='top', transform=a.transAxes, color='white', fontsize=20)\n",
    "\n",
    "\n",
    "def f(dy, b):\n",
    "    fig, (x1,x2,x3,x4) = plt.subplots(1,4,figsize=(12,4))\n",
    "    \n",
    "    for a in (x1,x2,x3,x4):\n",
    "        a.set_aspect('equal')\n",
    "\n",
    "    for a in (x2,x3,x4):\n",
    "        a.get_yaxis().set_ticks([])\n",
    "    \n",
    "    \n",
    "    wf = Wavefront(aperture * np.exp(2j * np.pi * pupil_grid.y * dy))\n",
    "\n",
    "    img_ref = prop(wf).intensity\n",
    "    \n",
    "    imshow_field(np.log10(img_ref / img_ref.max()), vmin=-5, vmax=0, cmap='inferno', ax=x1)\n",
    "    addtext(x1,\"B\")\n",
    "    \n",
    "    pupil_image = coro(wf)\n",
    "    \n",
    "    lyot_mask = evaluate_supersampled(circular_aperture(b), pupil_grid, 4)\n",
    "    \n",
    "    lyot_stop = Apodizer(lyot_mask)\n",
    "    \n",
    "    after_lyot_stop = lyot_stop(pupil_image)\n",
    "    \n",
    "    imshow_field(after_lyot_stop.intensity, vmax=2, cmap='inferno',ax=x3)\n",
    "    addtext(x2,\"D\")\n",
    "\n",
    "    img = prop(after_lyot_stop).intensity\n",
    "    \n",
    "    imshow_field(pupil_image.intensity, vmax=2, cmap='inferno',ax=x2)\n",
    "    addtext(x3,\"E\")\n",
    "\n",
    "    imshow_field(np.log10(img / img_ref.max()), vmin=-5, vmax=0, cmap='inferno', ax=x4)\n",
    "    addtext(x4,\"F\")\n",
    "    \n",
    "    x1.scatter(0,0,marker='.',color='white')\n",
    "    #x4.scatter(0,0,marker='.',color='white')\n",
    "    x3.add_patch(patches.Circle((0,0), radius=0.5, fill=None,edgecolor='white',linestyle='--'))\n",
    "    plt.show()\n",
    "\n",
    "interactive_plot = interactive(f, dy=(0.0, 5.0), b=(0.2, 1.5))\n",
    "output = interactive_plot.children[-1]\n",
    "output.layout.height = '210px'\n",
    "interactive_plot"
   ]
  },
  {
   "cell_type": "markdown",
   "metadata": {},
   "source": [
    "![Coronagraph layout](coronagraph.jpg)"
   ]
  },
  {
   "cell_type": "code",
   "execution_count": null,
   "metadata": {},
   "outputs": [],
   "source": []
  }
 ],
 "metadata": {
  "kernelspec": {
   "display_name": "Python 3",
   "language": "python",
   "name": "python3"
  },
  "language_info": {
   "codemirror_mode": {
    "name": "ipython",
    "version": 3
   },
   "file_extension": ".py",
   "mimetype": "text/x-python",
   "name": "python",
   "nbconvert_exporter": "python",
   "pygments_lexer": "ipython3",
   "version": "3.7.4"
  }
 },
 "nbformat": 4,
 "nbformat_minor": 4
}
